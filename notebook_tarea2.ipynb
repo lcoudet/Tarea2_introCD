{
 "cells": [
  {
   "cell_type": "markdown",
   "metadata": {},
   "source": [
    "# Introducción a la Ciencia de Datos: Tarea 2\n",
    "\n",
    "Este notebook contiene el código de base para realizar la Tarea 2 del curso. Puede copiarlo en su propio repositorio y trabajar sobre el mismo.\n",
    "Las **instrucciones para ejecutar el notebook** están en la [página inicial del repositorio](https://gitlab.fing.edu.uy/maestria-cdaa/intro-cd/).\n",
    "\n",
    "**Se espera que no sea necesario revisar el código para corregir la tarea**, ya que todos los resultados y análisis relevantes deberían estar en el **informe en formato PDF**."
   ]
  },
  {
   "cell_type": "markdown",
   "metadata": {},
   "source": [
    "## Cargar dependencias\n",
    "Para esta tarea, se han agregado algunos requerimientos, asegúrese de instalarlos (puede usar el mismo entorno virtual de la Tarea 1):"
   ]
  },
  {
   "cell_type": "code",
   "execution_count": 1,
   "metadata": {},
   "outputs": [
    {
     "name": "stdout",
     "output_type": "stream",
     "text": [
      "Requirement already satisfied: jupyter in c:\\users\\lucia\\anaconda3\\lib\\site-packages (1.0.0)\n",
      "Requirement already satisfied: pandas in c:\\users\\lucia\\anaconda3\\lib\\site-packages (2.1.4)\n",
      "Collecting sqlalchemy<2.0\n",
      "  Downloading SQLAlchemy-1.4.52-cp311-cp311-win_amd64.whl.metadata (10 kB)\n",
      "Collecting pymysql\n",
      "  Using cached PyMySQL-1.1.1-py3-none-any.whl.metadata (4.4 kB)\n",
      "Requirement already satisfied: seaborn in c:\\users\\lucia\\anaconda3\\lib\\site-packages (0.12.2)\n",
      "Requirement already satisfied: pillow in c:\\users\\lucia\\anaconda3\\lib\\site-packages (10.2.0)\n",
      "Requirement already satisfied: scikit-learn in c:\\users\\lucia\\anaconda3\\lib\\site-packages (1.2.2)\n",
      "Requirement already satisfied: notebook in c:\\users\\lucia\\anaconda3\\lib\\site-packages (from jupyter) (7.0.8)\n",
      "Requirement already satisfied: qtconsole in c:\\users\\lucia\\anaconda3\\lib\\site-packages (from jupyter) (5.4.2)\n",
      "Requirement already satisfied: jupyter-console in c:\\users\\lucia\\anaconda3\\lib\\site-packages (from jupyter) (6.6.3)\n",
      "Requirement already satisfied: nbconvert in c:\\users\\lucia\\anaconda3\\lib\\site-packages (from jupyter) (7.10.0)\n",
      "Requirement already satisfied: ipykernel in c:\\users\\lucia\\anaconda3\\lib\\site-packages (from jupyter) (6.28.0)\n",
      "Requirement already satisfied: ipywidgets in c:\\users\\lucia\\anaconda3\\lib\\site-packages (from jupyter) (7.6.5)\n",
      "Requirement already satisfied: numpy<2,>=1.23.2 in c:\\users\\lucia\\anaconda3\\lib\\site-packages (from pandas) (1.26.4)\n",
      "Requirement already satisfied: python-dateutil>=2.8.2 in c:\\users\\lucia\\anaconda3\\lib\\site-packages (from pandas) (2.8.2)\n",
      "Requirement already satisfied: pytz>=2020.1 in c:\\users\\lucia\\anaconda3\\lib\\site-packages (from pandas) (2023.3.post1)\n",
      "Requirement already satisfied: tzdata>=2022.1 in c:\\users\\lucia\\anaconda3\\lib\\site-packages (from pandas) (2023.3)\n",
      "Requirement already satisfied: greenlet!=0.4.17 in c:\\users\\lucia\\anaconda3\\lib\\site-packages (from sqlalchemy<2.0) (3.0.1)\n",
      "Requirement already satisfied: matplotlib!=3.6.1,>=3.1 in c:\\users\\lucia\\anaconda3\\lib\\site-packages (from seaborn) (3.8.0)\n",
      "Requirement already satisfied: scipy>=1.3.2 in c:\\users\\lucia\\anaconda3\\lib\\site-packages (from scikit-learn) (1.11.4)\n",
      "Requirement already satisfied: joblib>=1.1.1 in c:\\users\\lucia\\anaconda3\\lib\\site-packages (from scikit-learn) (1.2.0)\n",
      "Requirement already satisfied: threadpoolctl>=2.0.0 in c:\\users\\lucia\\anaconda3\\lib\\site-packages (from scikit-learn) (2.2.0)\n",
      "Requirement already satisfied: contourpy>=1.0.1 in c:\\users\\lucia\\anaconda3\\lib\\site-packages (from matplotlib!=3.6.1,>=3.1->seaborn) (1.2.0)\n",
      "Requirement already satisfied: cycler>=0.10 in c:\\users\\lucia\\anaconda3\\lib\\site-packages (from matplotlib!=3.6.1,>=3.1->seaborn) (0.11.0)\n",
      "Requirement already satisfied: fonttools>=4.22.0 in c:\\users\\lucia\\anaconda3\\lib\\site-packages (from matplotlib!=3.6.1,>=3.1->seaborn) (4.25.0)\n",
      "Requirement already satisfied: kiwisolver>=1.0.1 in c:\\users\\lucia\\anaconda3\\lib\\site-packages (from matplotlib!=3.6.1,>=3.1->seaborn) (1.4.4)\n",
      "Requirement already satisfied: packaging>=20.0 in c:\\users\\lucia\\anaconda3\\lib\\site-packages (from matplotlib!=3.6.1,>=3.1->seaborn) (23.1)\n",
      "Requirement already satisfied: pyparsing>=2.3.1 in c:\\users\\lucia\\anaconda3\\lib\\site-packages (from matplotlib!=3.6.1,>=3.1->seaborn) (3.0.9)\n",
      "Requirement already satisfied: six>=1.5 in c:\\users\\lucia\\anaconda3\\lib\\site-packages (from python-dateutil>=2.8.2->pandas) (1.16.0)\n",
      "Requirement already satisfied: comm>=0.1.1 in c:\\users\\lucia\\anaconda3\\lib\\site-packages (from ipykernel->jupyter) (0.1.2)\n",
      "Requirement already satisfied: debugpy>=1.6.5 in c:\\users\\lucia\\anaconda3\\lib\\site-packages (from ipykernel->jupyter) (1.6.7)\n",
      "Requirement already satisfied: ipython>=7.23.1 in c:\\users\\lucia\\anaconda3\\lib\\site-packages (from ipykernel->jupyter) (8.20.0)\n",
      "Requirement already satisfied: jupyter-client>=6.1.12 in c:\\users\\lucia\\anaconda3\\lib\\site-packages (from ipykernel->jupyter) (8.6.0)\n",
      "Requirement already satisfied: jupyter-core!=5.0.*,>=4.12 in c:\\users\\lucia\\anaconda3\\lib\\site-packages (from ipykernel->jupyter) (5.5.0)\n",
      "Requirement already satisfied: matplotlib-inline>=0.1 in c:\\users\\lucia\\anaconda3\\lib\\site-packages (from ipykernel->jupyter) (0.1.6)\n",
      "Requirement already satisfied: nest-asyncio in c:\\users\\lucia\\anaconda3\\lib\\site-packages (from ipykernel->jupyter) (1.6.0)\n",
      "Requirement already satisfied: psutil in c:\\users\\lucia\\anaconda3\\lib\\site-packages (from ipykernel->jupyter) (5.9.0)\n",
      "Requirement already satisfied: pyzmq>=24 in c:\\users\\lucia\\anaconda3\\lib\\site-packages (from ipykernel->jupyter) (25.1.2)\n",
      "Requirement already satisfied: tornado>=6.1 in c:\\users\\lucia\\anaconda3\\lib\\site-packages (from ipykernel->jupyter) (6.3.3)\n",
      "Requirement already satisfied: traitlets>=5.4.0 in c:\\users\\lucia\\anaconda3\\lib\\site-packages (from ipykernel->jupyter) (5.7.1)\n",
      "Requirement already satisfied: ipython-genutils~=0.2.0 in c:\\users\\lucia\\anaconda3\\lib\\site-packages (from ipywidgets->jupyter) (0.2.0)\n",
      "Requirement already satisfied: nbformat>=4.2.0 in c:\\users\\lucia\\anaconda3\\lib\\site-packages (from ipywidgets->jupyter) (5.9.2)\n",
      "Requirement already satisfied: widgetsnbextension~=3.5.0 in c:\\users\\lucia\\anaconda3\\lib\\site-packages (from ipywidgets->jupyter) (3.5.2)\n",
      "Requirement already satisfied: jupyterlab-widgets>=1.0.0 in c:\\users\\lucia\\anaconda3\\lib\\site-packages (from ipywidgets->jupyter) (3.0.9)\n",
      "Requirement already satisfied: prompt-toolkit>=3.0.30 in c:\\users\\lucia\\anaconda3\\lib\\site-packages (from jupyter-console->jupyter) (3.0.43)\n",
      "Requirement already satisfied: pygments in c:\\users\\lucia\\anaconda3\\lib\\site-packages (from jupyter-console->jupyter) (2.15.1)\n",
      "Requirement already satisfied: beautifulsoup4 in c:\\users\\lucia\\anaconda3\\lib\\site-packages (from nbconvert->jupyter) (4.12.2)\n",
      "Requirement already satisfied: bleach!=5.0.0 in c:\\users\\lucia\\anaconda3\\lib\\site-packages (from nbconvert->jupyter) (4.1.0)\n",
      "Requirement already satisfied: defusedxml in c:\\users\\lucia\\anaconda3\\lib\\site-packages (from nbconvert->jupyter) (0.7.1)\n",
      "Requirement already satisfied: jinja2>=3.0 in c:\\users\\lucia\\anaconda3\\lib\\site-packages (from nbconvert->jupyter) (3.1.3)\n",
      "Requirement already satisfied: jupyterlab-pygments in c:\\users\\lucia\\anaconda3\\lib\\site-packages (from nbconvert->jupyter) (0.1.2)\n",
      "Requirement already satisfied: markupsafe>=2.0 in c:\\users\\lucia\\anaconda3\\lib\\site-packages (from nbconvert->jupyter) (2.1.3)\n",
      "Requirement already satisfied: mistune<4,>=2.0.3 in c:\\users\\lucia\\anaconda3\\lib\\site-packages (from nbconvert->jupyter) (2.0.4)\n",
      "Requirement already satisfied: nbclient>=0.5.0 in c:\\users\\lucia\\anaconda3\\lib\\site-packages (from nbconvert->jupyter) (0.8.0)\n",
      "Requirement already satisfied: pandocfilters>=1.4.1 in c:\\users\\lucia\\anaconda3\\lib\\site-packages (from nbconvert->jupyter) (1.5.0)\n",
      "Requirement already satisfied: tinycss2 in c:\\users\\lucia\\anaconda3\\lib\\site-packages (from nbconvert->jupyter) (1.2.1)\n",
      "Requirement already satisfied: jupyter-server<3,>=2.4.0 in c:\\users\\lucia\\anaconda3\\lib\\site-packages (from notebook->jupyter) (2.10.0)\n",
      "Requirement already satisfied: jupyterlab-server<3,>=2.22.1 in c:\\users\\lucia\\anaconda3\\lib\\site-packages (from notebook->jupyter) (2.25.1)\n",
      "Requirement already satisfied: jupyterlab<4.1,>=4.0.2 in c:\\users\\lucia\\anaconda3\\lib\\site-packages (from notebook->jupyter) (4.0.11)\n",
      "Requirement already satisfied: notebook-shim<0.3,>=0.2 in c:\\users\\lucia\\anaconda3\\lib\\site-packages (from notebook->jupyter) (0.2.3)\n",
      "Requirement already satisfied: qtpy>=2.0.1 in c:\\users\\lucia\\anaconda3\\lib\\site-packages (from qtconsole->jupyter) (2.4.1)\n",
      "Requirement already satisfied: webencodings in c:\\users\\lucia\\anaconda3\\lib\\site-packages (from bleach!=5.0.0->nbconvert->jupyter) (0.5.1)\n",
      "Requirement already satisfied: decorator in c:\\users\\lucia\\anaconda3\\lib\\site-packages (from ipython>=7.23.1->ipykernel->jupyter) (5.1.1)\n",
      "Requirement already satisfied: jedi>=0.16 in c:\\users\\lucia\\anaconda3\\lib\\site-packages (from ipython>=7.23.1->ipykernel->jupyter) (0.18.1)\n",
      "Requirement already satisfied: stack-data in c:\\users\\lucia\\anaconda3\\lib\\site-packages (from ipython>=7.23.1->ipykernel->jupyter) (0.2.0)\n",
      "Requirement already satisfied: colorama in c:\\users\\lucia\\anaconda3\\lib\\site-packages (from ipython>=7.23.1->ipykernel->jupyter) (0.4.6)\n",
      "Requirement already satisfied: platformdirs>=2.5 in c:\\users\\lucia\\anaconda3\\lib\\site-packages (from jupyter-core!=5.0.*,>=4.12->ipykernel->jupyter) (3.10.0)\n",
      "Requirement already satisfied: pywin32>=300 in c:\\users\\lucia\\anaconda3\\lib\\site-packages (from jupyter-core!=5.0.*,>=4.12->ipykernel->jupyter) (305.1)\n",
      "Requirement already satisfied: anyio>=3.1.0 in c:\\users\\lucia\\anaconda3\\lib\\site-packages (from jupyter-server<3,>=2.4.0->notebook->jupyter) (4.2.0)\n",
      "Requirement already satisfied: argon2-cffi in c:\\users\\lucia\\anaconda3\\lib\\site-packages (from jupyter-server<3,>=2.4.0->notebook->jupyter) (21.3.0)\n",
      "Requirement already satisfied: jupyter-events>=0.6.0 in c:\\users\\lucia\\anaconda3\\lib\\site-packages (from jupyter-server<3,>=2.4.0->notebook->jupyter) (0.8.0)\n",
      "Requirement already satisfied: jupyter-server-terminals in c:\\users\\lucia\\anaconda3\\lib\\site-packages (from jupyter-server<3,>=2.4.0->notebook->jupyter) (0.4.4)\n",
      "Requirement already satisfied: overrides in c:\\users\\lucia\\anaconda3\\lib\\site-packages (from jupyter-server<3,>=2.4.0->notebook->jupyter) (7.4.0)\n",
      "Requirement already satisfied: prometheus-client in c:\\users\\lucia\\anaconda3\\lib\\site-packages (from jupyter-server<3,>=2.4.0->notebook->jupyter) (0.14.1)\n",
      "Requirement already satisfied: pywinpty in c:\\users\\lucia\\anaconda3\\lib\\site-packages (from jupyter-server<3,>=2.4.0->notebook->jupyter) (2.0.10)\n",
      "Requirement already satisfied: send2trash>=1.8.2 in c:\\users\\lucia\\anaconda3\\lib\\site-packages (from jupyter-server<3,>=2.4.0->notebook->jupyter) (1.8.2)\n",
      "Requirement already satisfied: terminado>=0.8.3 in c:\\users\\lucia\\anaconda3\\lib\\site-packages (from jupyter-server<3,>=2.4.0->notebook->jupyter) (0.17.1)\n",
      "Requirement already satisfied: websocket-client in c:\\users\\lucia\\anaconda3\\lib\\site-packages (from jupyter-server<3,>=2.4.0->notebook->jupyter) (0.58.0)\n",
      "Requirement already satisfied: async-lru>=1.0.0 in c:\\users\\lucia\\anaconda3\\lib\\site-packages (from jupyterlab<4.1,>=4.0.2->notebook->jupyter) (2.0.4)\n",
      "Requirement already satisfied: jupyter-lsp>=2.0.0 in c:\\users\\lucia\\anaconda3\\lib\\site-packages (from jupyterlab<4.1,>=4.0.2->notebook->jupyter) (2.2.0)\n",
      "Requirement already satisfied: babel>=2.10 in c:\\users\\lucia\\anaconda3\\lib\\site-packages (from jupyterlab-server<3,>=2.22.1->notebook->jupyter) (2.11.0)\n",
      "Requirement already satisfied: json5>=0.9.0 in c:\\users\\lucia\\anaconda3\\lib\\site-packages (from jupyterlab-server<3,>=2.22.1->notebook->jupyter) (0.9.6)\n",
      "Requirement already satisfied: jsonschema>=4.18.0 in c:\\users\\lucia\\anaconda3\\lib\\site-packages (from jupyterlab-server<3,>=2.22.1->notebook->jupyter) (4.19.2)\n",
      "Requirement already satisfied: requests>=2.31 in c:\\users\\lucia\\anaconda3\\lib\\site-packages (from jupyterlab-server<3,>=2.22.1->notebook->jupyter) (2.31.0)\n",
      "Requirement already satisfied: fastjsonschema in c:\\users\\lucia\\anaconda3\\lib\\site-packages (from nbformat>=4.2.0->ipywidgets->jupyter) (2.16.2)\n",
      "Requirement already satisfied: wcwidth in c:\\users\\lucia\\anaconda3\\lib\\site-packages (from prompt-toolkit>=3.0.30->jupyter-console->jupyter) (0.2.5)\n",
      "Requirement already satisfied: soupsieve>1.2 in c:\\users\\lucia\\anaconda3\\lib\\site-packages (from beautifulsoup4->nbconvert->jupyter) (2.5)\n",
      "Requirement already satisfied: idna>=2.8 in c:\\users\\lucia\\anaconda3\\lib\\site-packages (from anyio>=3.1.0->jupyter-server<3,>=2.4.0->notebook->jupyter) (3.4)\n",
      "Requirement already satisfied: sniffio>=1.1 in c:\\users\\lucia\\anaconda3\\lib\\site-packages (from anyio>=3.1.0->jupyter-server<3,>=2.4.0->notebook->jupyter) (1.3.0)\n",
      "Requirement already satisfied: parso<0.9.0,>=0.8.0 in c:\\users\\lucia\\anaconda3\\lib\\site-packages (from jedi>=0.16->ipython>=7.23.1->ipykernel->jupyter) (0.8.3)\n",
      "Requirement already satisfied: attrs>=22.2.0 in c:\\users\\lucia\\anaconda3\\lib\\site-packages (from jsonschema>=4.18.0->jupyterlab-server<3,>=2.22.1->notebook->jupyter) (23.1.0)\n",
      "Requirement already satisfied: jsonschema-specifications>=2023.03.6 in c:\\users\\lucia\\anaconda3\\lib\\site-packages (from jsonschema>=4.18.0->jupyterlab-server<3,>=2.22.1->notebook->jupyter) (2023.7.1)\n",
      "Requirement already satisfied: referencing>=0.28.4 in c:\\users\\lucia\\anaconda3\\lib\\site-packages (from jsonschema>=4.18.0->jupyterlab-server<3,>=2.22.1->notebook->jupyter) (0.30.2)\n",
      "Requirement already satisfied: rpds-py>=0.7.1 in c:\\users\\lucia\\anaconda3\\lib\\site-packages (from jsonschema>=4.18.0->jupyterlab-server<3,>=2.22.1->notebook->jupyter) (0.10.6)\n",
      "Requirement already satisfied: python-json-logger>=2.0.4 in c:\\users\\lucia\\anaconda3\\lib\\site-packages (from jupyter-events>=0.6.0->jupyter-server<3,>=2.4.0->notebook->jupyter) (2.0.7)\n",
      "Requirement already satisfied: pyyaml>=5.3 in c:\\users\\lucia\\anaconda3\\lib\\site-packages (from jupyter-events>=0.6.0->jupyter-server<3,>=2.4.0->notebook->jupyter) (6.0.1)\n",
      "Requirement already satisfied: rfc3339-validator in c:\\users\\lucia\\anaconda3\\lib\\site-packages (from jupyter-events>=0.6.0->jupyter-server<3,>=2.4.0->notebook->jupyter) (0.1.4)\n",
      "Requirement already satisfied: rfc3986-validator>=0.1.1 in c:\\users\\lucia\\anaconda3\\lib\\site-packages (from jupyter-events>=0.6.0->jupyter-server<3,>=2.4.0->notebook->jupyter) (0.1.1)\n",
      "Requirement already satisfied: charset-normalizer<4,>=2 in c:\\users\\lucia\\anaconda3\\lib\\site-packages (from requests>=2.31->jupyterlab-server<3,>=2.22.1->notebook->jupyter) (2.0.4)\n",
      "Requirement already satisfied: urllib3<3,>=1.21.1 in c:\\users\\lucia\\anaconda3\\lib\\site-packages (from requests>=2.31->jupyterlab-server<3,>=2.22.1->notebook->jupyter) (2.0.7)\n",
      "Requirement already satisfied: certifi>=2017.4.17 in c:\\users\\lucia\\anaconda3\\lib\\site-packages (from requests>=2.31->jupyterlab-server<3,>=2.22.1->notebook->jupyter) (2024.2.2)\n",
      "Requirement already satisfied: argon2-cffi-bindings in c:\\users\\lucia\\anaconda3\\lib\\site-packages (from argon2-cffi->jupyter-server<3,>=2.4.0->notebook->jupyter) (21.2.0)\n",
      "Requirement already satisfied: executing in c:\\users\\lucia\\anaconda3\\lib\\site-packages (from stack-data->ipython>=7.23.1->ipykernel->jupyter) (0.8.3)\n",
      "Requirement already satisfied: asttokens in c:\\users\\lucia\\anaconda3\\lib\\site-packages (from stack-data->ipython>=7.23.1->ipykernel->jupyter) (2.0.5)\n",
      "Requirement already satisfied: pure-eval in c:\\users\\lucia\\anaconda3\\lib\\site-packages (from stack-data->ipython>=7.23.1->ipykernel->jupyter) (0.2.2)\n",
      "Collecting fqdn (from jsonschema[format-nongpl]>=4.18.0->jupyter-events>=0.6.0->jupyter-server<3,>=2.4.0->notebook->jupyter)\n",
      "  Using cached fqdn-1.5.1-py3-none-any.whl.metadata (1.4 kB)\n",
      "Collecting isoduration (from jsonschema[format-nongpl]>=4.18.0->jupyter-events>=0.6.0->jupyter-server<3,>=2.4.0->notebook->jupyter)\n",
      "  Using cached isoduration-20.11.0-py3-none-any.whl.metadata (5.7 kB)\n",
      "Requirement already satisfied: jsonpointer>1.13 in c:\\users\\lucia\\anaconda3\\lib\\site-packages (from jsonschema[format-nongpl]>=4.18.0->jupyter-events>=0.6.0->jupyter-server<3,>=2.4.0->notebook->jupyter) (2.1)\n",
      "Collecting uri-template (from jsonschema[format-nongpl]>=4.18.0->jupyter-events>=0.6.0->jupyter-server<3,>=2.4.0->notebook->jupyter)\n",
      "  Using cached uri_template-1.3.0-py3-none-any.whl.metadata (8.8 kB)\n",
      "Collecting webcolors>=1.11 (from jsonschema[format-nongpl]>=4.18.0->jupyter-events>=0.6.0->jupyter-server<3,>=2.4.0->notebook->jupyter)\n",
      "  Downloading webcolors-24.6.0-py3-none-any.whl.metadata (2.6 kB)\n",
      "Requirement already satisfied: cffi>=1.0.1 in c:\\users\\lucia\\anaconda3\\lib\\site-packages (from argon2-cffi-bindings->argon2-cffi->jupyter-server<3,>=2.4.0->notebook->jupyter) (1.16.0)\n",
      "Requirement already satisfied: pycparser in c:\\users\\lucia\\anaconda3\\lib\\site-packages (from cffi>=1.0.1->argon2-cffi-bindings->argon2-cffi->jupyter-server<3,>=2.4.0->notebook->jupyter) (2.21)\n",
      "Requirement already satisfied: arrow>=0.15.0 in c:\\users\\lucia\\anaconda3\\lib\\site-packages (from isoduration->jsonschema[format-nongpl]>=4.18.0->jupyter-events>=0.6.0->jupyter-server<3,>=2.4.0->notebook->jupyter) (1.2.3)\n",
      "Downloading SQLAlchemy-1.4.52-cp311-cp311-win_amd64.whl (1.6 MB)\n",
      "   ---------------------------------------- 0.0/1.6 MB ? eta -:--:--\n",
      "   ---------------------------------------- 0.0/1.6 MB ? eta -:--:--\n",
      "   ---------------------------------------- 0.0/1.6 MB ? eta -:--:--\n",
      "   - -------------------------------------- 0.0/1.6 MB 330.3 kB/s eta 0:00:05\n",
      "   -- ------------------------------------- 0.1/1.6 MB 655.4 kB/s eta 0:00:03\n",
      "   ------------- -------------------------- 0.6/1.6 MB 3.2 MB/s eta 0:00:01\n",
      "   ---------------------------------------- 1.6/1.6 MB 7.3 MB/s eta 0:00:00\n",
      "Using cached PyMySQL-1.1.1-py3-none-any.whl (44 kB)\n",
      "Downloading webcolors-24.6.0-py3-none-any.whl (14 kB)\n",
      "Using cached fqdn-1.5.1-py3-none-any.whl (9.1 kB)\n",
      "Using cached isoduration-20.11.0-py3-none-any.whl (11 kB)\n",
      "Using cached uri_template-1.3.0-py3-none-any.whl (11 kB)\n",
      "Installing collected packages: webcolors, uri-template, sqlalchemy, pymysql, fqdn, isoduration\n",
      "  Attempting uninstall: sqlalchemy\n",
      "    Found existing installation: SQLAlchemy 2.0.25\n",
      "    Uninstalling SQLAlchemy-2.0.25:\n",
      "      Successfully uninstalled SQLAlchemy-2.0.25\n",
      "Successfully installed fqdn-1.5.1 isoduration-20.11.0 pymysql-1.1.1 sqlalchemy-1.4.52 uri-template-1.3.0 webcolors-24.6.0\n"
     ]
    }
   ],
   "source": [
    "!pip install jupyter pandas \"sqlalchemy<2.0\" pymysql seaborn pillow scikit-learn"
   ]
  },
  {
   "cell_type": "code",
   "execution_count": 24,
   "metadata": {},
   "outputs": [],
   "source": [
    "from time import time\n",
    "from pathlib import Path\n",
    "\n",
    "import numpy as np\n",
    "import pandas as pd\n",
    "import matplotlib.pyplot as plt\n",
    "from sqlalchemy import create_engine\n",
    "\n",
    "from sklearn.feature_extraction.text import CountVectorizer, TfidfTransformer\n",
    "from sklearn.naive_bayes import MultinomialNB\n",
    "from sklearn.neighbors import KNeighborsClassifier\n",
    "from sklearn.model_selection import train_test_split\n",
    "from sklearn.metrics import ConfusionMatrixDisplay"
   ]
  },
  {
   "cell_type": "markdown",
   "metadata": {},
   "source": [
    "## Conexión a la Base y Lectura de Datos"
   ]
  },
  {
   "cell_type": "code",
   "execution_count": 8,
   "metadata": {},
   "outputs": [],
   "source": [
    "df_paragraphs = pd.read_csv(r\"C:\\Users\\lucia\\OneDrive\\Escritorio\\IntroCD\\Tarea2_introCD\\Tarea_2\\data\\shakespeare\\paragraphs.csv\")\n",
    "df_characters = pd.read_csv(r\"C:\\Users\\lucia\\OneDrive\\Escritorio\\IntroCD\\Tarea2_introCD\\Tarea_2\\data\\shakespeare\\characters.csv\")\n",
    "df_works = pd.read_csv(r\"C:\\Users\\lucia\\OneDrive\\Escritorio\\IntroCD\\Tarea2_introCD\\Tarea_2\\data\\shakespeare\\works.csv\")\n",
    "df_chapters = pd.read_csv(r\"C:\\Users\\lucia\\OneDrive\\Escritorio\\IntroCD\\Tarea2_introCD\\Tarea_2\\data\\shakespeare\\chapters.csv\")"
   ]
  },
  {
   "cell_type": "markdown",
   "metadata": {},
   "source": [
    "## Limpieza de Texto"
   ]
  },
  {
   "cell_type": "code",
   "execution_count": 25,
   "metadata": {
    "scrolled": false
   },
   "outputs": [
    {
     "data": {
      "text/html": [
       "<div>\n",
       "<style scoped>\n",
       "    .dataframe tbody tr th:only-of-type {\n",
       "        vertical-align: middle;\n",
       "    }\n",
       "\n",
       "    .dataframe tbody tr th {\n",
       "        vertical-align: top;\n",
       "    }\n",
       "\n",
       "    .dataframe thead th {\n",
       "        text-align: right;\n",
       "    }\n",
       "</style>\n",
       "<table border=\"1\" class=\"dataframe\">\n",
       "  <thead>\n",
       "    <tr style=\"text-align: right;\">\n",
       "      <th></th>\n",
       "      <th>PlainText</th>\n",
       "      <th>CleanText</th>\n",
       "    </tr>\n",
       "  </thead>\n",
       "  <tbody>\n",
       "    <tr>\n",
       "      <th>0</th>\n",
       "      <td>[Enter DUKE ORSINO, CURIO, and other Lords; Mu...</td>\n",
       "      <td>enter duke orsino  curio  and other lords  mu...</td>\n",
       "    </tr>\n",
       "    <tr>\n",
       "      <th>1</th>\n",
       "      <td>If music be the food of love, play on;\\r\\nGive...</td>\n",
       "      <td>if music be the food of love  play on \\r give ...</td>\n",
       "    </tr>\n",
       "    <tr>\n",
       "      <th>2</th>\n",
       "      <td>Will you go hunt, my lord?</td>\n",
       "      <td>will you go hunt  my lord</td>\n",
       "    </tr>\n",
       "    <tr>\n",
       "      <th>3</th>\n",
       "      <td>What, Curio?</td>\n",
       "      <td>what  curio</td>\n",
       "    </tr>\n",
       "    <tr>\n",
       "      <th>4</th>\n",
       "      <td>The hart.</td>\n",
       "      <td>the hart</td>\n",
       "    </tr>\n",
       "    <tr>\n",
       "      <th>...</th>\n",
       "      <td>...</td>\n",
       "      <td>...</td>\n",
       "    </tr>\n",
       "    <tr>\n",
       "      <th>35460</th>\n",
       "      <td>That she is living,\\r\\nWere it but told you, s...</td>\n",
       "      <td>that she is living \\r were it but told you  sh...</td>\n",
       "    </tr>\n",
       "    <tr>\n",
       "      <th>35461</th>\n",
       "      <td>You gods, look down\\r\\nAnd from your sacred vi...</td>\n",
       "      <td>you gods  look down\\r and from your sacred via...</td>\n",
       "    </tr>\n",
       "    <tr>\n",
       "      <th>35462</th>\n",
       "      <td>There's time enough for that;\\r\\nLest they des...</td>\n",
       "      <td>there's time enough for that \\r lest they desi...</td>\n",
       "    </tr>\n",
       "    <tr>\n",
       "      <th>35463</th>\n",
       "      <td>O, peace, Paulina!\\r\\nThou shouldst a husband ...</td>\n",
       "      <td>o  peace  paulina \\r thou shouldst a husband t...</td>\n",
       "    </tr>\n",
       "    <tr>\n",
       "      <th>35464</th>\n",
       "      <td>[Exeunt]</td>\n",
       "      <td>exeunt</td>\n",
       "    </tr>\n",
       "  </tbody>\n",
       "</table>\n",
       "<p>35465 rows × 2 columns</p>\n",
       "</div>"
      ],
      "text/plain": [
       "                                               PlainText  \\\n",
       "0      [Enter DUKE ORSINO, CURIO, and other Lords; Mu...   \n",
       "1      If music be the food of love, play on;\\r\\nGive...   \n",
       "2                             Will you go hunt, my lord?   \n",
       "3                                           What, Curio?   \n",
       "4                                              The hart.   \n",
       "...                                                  ...   \n",
       "35460  That she is living,\\r\\nWere it but told you, s...   \n",
       "35461  You gods, look down\\r\\nAnd from your sacred vi...   \n",
       "35462  There's time enough for that;\\r\\nLest they des...   \n",
       "35463  O, peace, Paulina!\\r\\nThou shouldst a husband ...   \n",
       "35464                                           [Exeunt]   \n",
       "\n",
       "                                               CleanText  \n",
       "0       enter duke orsino  curio  and other lords  mu...  \n",
       "1      if music be the food of love  play on \\r give ...  \n",
       "2                             will you go hunt  my lord   \n",
       "3                                           what  curio   \n",
       "4                                              the hart   \n",
       "...                                                  ...  \n",
       "35460  that she is living \\r were it but told you  sh...  \n",
       "35461  you gods  look down\\r and from your sacred via...  \n",
       "35462  there's time enough for that \\r lest they desi...  \n",
       "35463  o  peace  paulina \\r thou shouldst a husband t...  \n",
       "35464                                            exeunt   \n",
       "\n",
       "[35465 rows x 2 columns]"
      ]
     },
     "execution_count": 25,
     "metadata": {},
     "output_type": "execute_result"
    }
   ],
   "source": [
    "# Eliminamos signos de puntuacion, exclamacion, pregunta, etc\n",
    "\n",
    "def clean_text(df, column_name):\n",
    "    # Convertir todo a minúsculas\n",
    "    result = df[column_name].str.lower()\n",
    "\n",
    "    # FIXME: completar\n",
    "    for punc in [\"[\", \"\\n\", \",\", \":\",\";\",\"]\", \"!\", \"?\", \".\", \"-\",'\"','#', '$', '%', '&', '(', ')', '*']:\n",
    "        result = result.str.replace(punc, \" \")\n",
    "    return result\n",
    "\n",
    "# Creamos una nueva columna CleanText a partir de PlainText\n",
    "df_paragraphs[\"CleanText\"] = clean_text(df_paragraphs, \"PlainText\")\n",
    "\n",
    "# Veamos la diferencia\n",
    "df_paragraphs[[\"PlainText\", \"CleanText\"]]"
   ]
  },
  {
   "cell_type": "code",
   "execution_count": 26,
   "metadata": {},
   "outputs": [
    {
     "data": {
      "text/html": [
       "<div>\n",
       "<style scoped>\n",
       "    .dataframe tbody tr th:only-of-type {\n",
       "        vertical-align: middle;\n",
       "    }\n",
       "\n",
       "    .dataframe tbody tr th {\n",
       "        vertical-align: top;\n",
       "    }\n",
       "\n",
       "    .dataframe thead th {\n",
       "        text-align: right;\n",
       "    }\n",
       "</style>\n",
       "<table border=\"1\" class=\"dataframe\">\n",
       "  <thead>\n",
       "    <tr style=\"text-align: right;\">\n",
       "      <th></th>\n",
       "      <th>CleanText</th>\n",
       "      <th>CharName</th>\n",
       "      <th>Title</th>\n",
       "      <th>GenreType</th>\n",
       "    </tr>\n",
       "  </thead>\n",
       "  <tbody>\n",
       "    <tr>\n",
       "      <th>2058</th>\n",
       "      <td>if it be love indeed  tell me how much</td>\n",
       "      <td>Cleopatra</td>\n",
       "      <td>Antony and Cleopatra</td>\n",
       "      <td>Tragedy</td>\n",
       "    </tr>\n",
       "    <tr>\n",
       "      <th>2059</th>\n",
       "      <td>there's beggary in the love that can be reckon'd</td>\n",
       "      <td>Antony</td>\n",
       "      <td>Antony and Cleopatra</td>\n",
       "      <td>Tragedy</td>\n",
       "    </tr>\n",
       "    <tr>\n",
       "      <th>2060</th>\n",
       "      <td>i'll set a bourn how far to be beloved</td>\n",
       "      <td>Cleopatra</td>\n",
       "      <td>Antony and Cleopatra</td>\n",
       "      <td>Tragedy</td>\n",
       "    </tr>\n",
       "    <tr>\n",
       "      <th>2061</th>\n",
       "      <td>then must thou needs find out new heaven  new ...</td>\n",
       "      <td>Antony</td>\n",
       "      <td>Antony and Cleopatra</td>\n",
       "      <td>Tragedy</td>\n",
       "    </tr>\n",
       "    <tr>\n",
       "      <th>2064</th>\n",
       "      <td>grates me  the sum</td>\n",
       "      <td>Antony</td>\n",
       "      <td>Antony and Cleopatra</td>\n",
       "      <td>Tragedy</td>\n",
       "    </tr>\n",
       "    <tr>\n",
       "      <th>...</th>\n",
       "      <td>...</td>\n",
       "      <td>...</td>\n",
       "      <td>...</td>\n",
       "      <td>...</td>\n",
       "    </tr>\n",
       "    <tr>\n",
       "      <th>27583</th>\n",
       "      <td>thou hadst a clarence too  and richard kill'd ...</td>\n",
       "      <td>Queen Margaret</td>\n",
       "      <td>Richard III</td>\n",
       "      <td>History</td>\n",
       "    </tr>\n",
       "    <tr>\n",
       "      <th>27585</th>\n",
       "      <td>bear with me  i am hungry for revenge \\r and n...</td>\n",
       "      <td>Queen Margaret</td>\n",
       "      <td>Richard III</td>\n",
       "      <td>History</td>\n",
       "    </tr>\n",
       "    <tr>\n",
       "      <th>27587</th>\n",
       "      <td>i call'd thee then vain flourish of my fortune...</td>\n",
       "      <td>Queen Margaret</td>\n",
       "      <td>Richard III</td>\n",
       "      <td>History</td>\n",
       "    </tr>\n",
       "    <tr>\n",
       "      <th>27589</th>\n",
       "      <td>forbear to sleep the nights  and fast the days...</td>\n",
       "      <td>Queen Margaret</td>\n",
       "      <td>Richard III</td>\n",
       "      <td>History</td>\n",
       "    </tr>\n",
       "    <tr>\n",
       "      <th>27591</th>\n",
       "      <td>thy woes will make them sharp  and pierce like...</td>\n",
       "      <td>Queen Margaret</td>\n",
       "      <td>Richard III</td>\n",
       "      <td>History</td>\n",
       "    </tr>\n",
       "  </tbody>\n",
       "</table>\n",
       "<p>626 rows × 4 columns</p>\n",
       "</div>"
      ],
      "text/plain": [
       "                                               CleanText        CharName  \\\n",
       "2058             if it be love indeed  tell me how much        Cleopatra   \n",
       "2059   there's beggary in the love that can be reckon'd           Antony   \n",
       "2060             i'll set a bourn how far to be beloved        Cleopatra   \n",
       "2061   then must thou needs find out new heaven  new ...          Antony   \n",
       "2064                                 grates me  the sum           Antony   \n",
       "...                                                  ...             ...   \n",
       "27583  thou hadst a clarence too  and richard kill'd ...  Queen Margaret   \n",
       "27585  bear with me  i am hungry for revenge \\r and n...  Queen Margaret   \n",
       "27587  i call'd thee then vain flourish of my fortune...  Queen Margaret   \n",
       "27589  forbear to sleep the nights  and fast the days...  Queen Margaret   \n",
       "27591  thy woes will make them sharp  and pierce like...  Queen Margaret   \n",
       "\n",
       "                      Title GenreType  \n",
       "2058   Antony and Cleopatra   Tragedy  \n",
       "2059   Antony and Cleopatra   Tragedy  \n",
       "2060   Antony and Cleopatra   Tragedy  \n",
       "2061   Antony and Cleopatra   Tragedy  \n",
       "2064   Antony and Cleopatra   Tragedy  \n",
       "...                     ...       ...  \n",
       "27583           Richard III   History  \n",
       "27585           Richard III   History  \n",
       "27587           Richard III   History  \n",
       "27589           Richard III   History  \n",
       "27591           Richard III   History  \n",
       "\n",
       "[626 rows x 4 columns]"
      ]
     },
     "execution_count": 26,
     "metadata": {},
     "output_type": "execute_result"
    }
   ],
   "source": [
    "# Agregamos personajes, obras y géneros en el mismo dataset\n",
    "df_dataset = df_paragraphs.merge(df_chapters.set_index(\"id\")[\"work_id\"], left_on=\"chapter_id\", right_index=True)\n",
    "df_dataset = df_dataset.merge(df_works.set_index(\"id\")[[\"Title\", \"GenreType\"]], left_on=\"work_id\", right_index=True)\n",
    "df_dataset = df_dataset.merge(df_characters.set_index('id')[\"CharName\"], left_on=\"character_id\", right_index=True).sort_index()\n",
    "df_dataset = df_dataset[[\"CleanText\", \"CharName\", \"Title\", \"GenreType\"]]\n",
    "\n",
    "# Usaremos sólo estos personajes\n",
    "characters = [\"Antony\", \"Cleopatra\", \"Queen Margaret\"]\n",
    "df_dataset = df_dataset[df_dataset[\"CharName\"].isin(characters)]\n",
    "\n",
    "df_dataset"
   ]
  },
  {
   "cell_type": "code",
   "execution_count": 33,
   "metadata": {},
   "outputs": [],
   "source": [
    "# Párrafos por cada personaje seleccionado\n",
    "df_dataset[\"CharName\"].value_counts()\n",
    "df_dataset.to_csv(r\"C:\\Users\\lucia\\OneDrive\\Escritorio\\IntroCD\\Tarea2_introCD\\Tarea_2\\data\\shakespeare\\dataset.csv\")"
   ]
  },
  {
   "cell_type": "markdown",
   "metadata": {},
   "source": [
    "## Dataset y Features de texto"
   ]
  },
  {
   "cell_type": "code",
   "execution_count": 27,
   "metadata": {},
   "outputs": [],
   "source": [
    "X = df_dataset[\"CleanText\"].to_numpy()\n",
    "y = df_dataset[\"CharName\"].to_numpy()"
   ]
  },
  {
   "cell_type": "code",
   "execution_count": 28,
   "metadata": {},
   "outputs": [
    {
     "name": "stdout",
     "output_type": "stream",
     "text": [
      "Tamaños de Train/Test: 438/188\n"
     ]
    }
   ],
   "source": [
    "# TODO: Partir train/test 30% estratificados\n",
    "\n",
    "X_train, X_test, y_train, y_test = train_test_split(\n",
    "    X, y, test_size=0.3, random_state=42, stratify=y)\n",
    "\n",
    "print(f\"Tamaños de Train/Test: {len(X_train)}/{len(X_test)}\")"
   ]
  },
  {
   "cell_type": "markdown",
   "metadata": {},
   "source": [
    "### Conteo de palabras y TF-IDF"
   ]
  },
  {
   "cell_type": "code",
   "execution_count": 29,
   "metadata": {},
   "outputs": [
    {
     "data": {
      "text/plain": [
       "<438x2807 sparse matrix of type '<class 'numpy.int64'>'\n",
       "\twith 10831 stored elements in Compressed Sparse Row format>"
      ]
     },
     "execution_count": 29,
     "metadata": {},
     "output_type": "execute_result"
    }
   ],
   "source": [
    "count_vect = CountVectorizer(stop_words=None, ngram_range=(1,1))\n",
    "X_train_counts = count_vect.fit_transform(X_train)\n",
    "X_train_counts"
   ]
  },
  {
   "cell_type": "code",
   "execution_count": 30,
   "metadata": {},
   "outputs": [
    {
     "data": {
      "text/plain": [
       "<438x2807 sparse matrix of type '<class 'numpy.float64'>'\n",
       "\twith 10831 stored elements in Compressed Sparse Row format>"
      ]
     },
     "execution_count": 30,
     "metadata": {},
     "output_type": "execute_result"
    }
   ],
   "source": [
    "tf_idf = TfidfTransformer(use_idf=False)\n",
    "X_train_tf = tf_idf.fit_transform(X_train_counts)\n",
    "X_train_tf"
   ]
  },
  {
   "cell_type": "code",
   "execution_count": 28,
   "metadata": {},
   "outputs": [],
   "source": [
    "# guardamos datos generados para utilizar en rmarkdown\n",
    "\n",
    "#df_X_train=pd.DataFrame(X_train)\n",
    "#df_X_test=pd.DataFrame(X_test)\n",
    "#df_y_train=pd.DataFrame(y_train)\n",
    "#df_y_test=pd.DataFrame(y_test)\n",
    "\n",
    "#df_X_train.to_csv(r\"C:\\Users\\lucia\\OneDrive\\Escritorio\\IntroCD\\Tarea2_introCD\\Tarea_2\\data\\shakespeare\\X_train.csv\")\n",
    "#df_X_test.to_csv(r\"C:\\Users\\lucia\\OneDrive\\Escritorio\\IntroCD\\Tarea2_introCD\\Tarea_2\\data\\shakespeare\\X_test.csv\")\n",
    "#df_y_train.to_csv(r\"C:\\Users\\lucia\\OneDrive\\Escritorio\\IntroCD\\Tarea2_introCD\\Tarea_2\\data\\shakespeare\\y_train.csv\")\n",
    "#df_y_test.to_csv(r\"C:\\Users\\lucia\\OneDrive\\Escritorio\\IntroCD\\Tarea2_introCD\\Tarea_2\\data\\shakespeare\\y_test.csv\")"
   ]
  },
  {
   "cell_type": "markdown",
   "metadata": {},
   "source": [
    "### Reducción de dimensionalidad"
   ]
  },
  {
   "cell_type": "code",
   "execution_count": 31,
   "metadata": {},
   "outputs": [],
   "source": [
    "# TODO: Realizar PCA sobre los datos de entrenamiento\n",
    "\n",
    "from sklearn.decomposition import PCA\n",
    "\n",
    "reductor = PCA(n_components=2)\n",
    "\n",
    "# Transformar train\n",
    "X_train_red = reductor.fit_transform(X_train_tf.toarray())"
   ]
  },
  {
   "cell_type": "code",
   "execution_count": 32,
   "metadata": {},
   "outputs": [
    {
     "data": {
      "text/plain": [
       "<matplotlib.legend.Legend at 0x15cea622990>"
      ]
     },
     "execution_count": 32,
     "metadata": {},
     "output_type": "execute_result"
    },
    {
     "data": {
      "image/png": "[encoded data removed]",
      "text/plain": [
       "<Figure size 600x600 with 1 Axes>"
      ]
     },
     "metadata": {},
     "output_type": "display_data"
    }
   ],
   "source": [
    "# Visualización de las dos primeras componentes de PCA\n",
    "fig, ax = plt.subplots(figsize=(6, 6))\n",
    "for character in np.unique(y_train):\n",
    "    mask_train = y_train == character\n",
    "    ax.scatter(X_train_red[mask_train, 0], X_train_red[mask_train, 1], label=character)\n",
    "\n",
    "ax.set_title(\"PCA por personaje\")\n",
    "ax.legend()"
   ]
  },
  {
   "cell_type": "code",
   "execution_count": 35,
   "metadata": {},
   "outputs": [
    {
     "data": {
      "text/plain": [
       "array([0.04308257, 0.02689726])"
      ]
     },
     "execution_count": 35,
     "metadata": {},
     "output_type": "execute_result"
    }
   ],
   "source": [
    "# varianza explicada\n",
    "reductor.explained_variance_ratio_"
   ]
  },
  {
   "cell_type": "code",
   "execution_count": 36,
   "metadata": {},
   "outputs": [
    {
     "data": {
      "text/plain": [
       "<matplotlib.legend.Legend at 0x15cea38d3d0>"
      ]
     },
     "execution_count": 36,
     "metadata": {},
     "output_type": "execute_result"
    },
    {
     "data": {
      "image/png": "[encoded data removed]",
      "text/plain": [
       "<Figure size 600x600 with 1 Axes>"
      ]
     },
     "metadata": {},
     "output_type": "display_data"
    }
   ],
   "source": [
    "# idem filtrando las stopwords en ingles\n",
    "count_vect = CountVectorizer(stop_words='english', ngram_range=(1,1))\n",
    "X_train_counts = count_vect.fit_transform(X_train)\n",
    "\n",
    "tf_idf = TfidfTransformer(use_idf=False)\n",
    "X_train_tf = tf_idf.fit_transform(X_train_counts)\n",
    "\n",
    "from sklearn.decomposition import PCA\n",
    "\n",
    "reductor = PCA(n_components=2)\n",
    "\n",
    "# Transformar train\n",
    "X_train_red = reductor.fit_transform(X_train_tf.toarray())\n",
    "\n",
    "fig, ax = plt.subplots(figsize=(6, 6))\n",
    "for character in np.unique(y_train):\n",
    "    mask_train = y_train == character\n",
    "    ax.scatter(X_train_red[mask_train, 0], X_train_red[mask_train, 1], label=character)\n",
    "\n",
    "ax.set_title(\"PCA por personaje\")\n",
    "ax.legend()"
   ]
  },
  {
   "cell_type": "code",
   "execution_count": 37,
   "metadata": {},
   "outputs": [
    {
     "data": {
      "text/plain": [
       "array([0.02985894, 0.01863092])"
      ]
     },
     "execution_count": 37,
     "metadata": {},
     "output_type": "execute_result"
    }
   ],
   "source": [
    "# varianza explicada\n",
    "reductor.explained_variance_ratio_"
   ]
  },
  {
   "cell_type": "code",
   "execution_count": 38,
   "metadata": {},
   "outputs": [
    {
     "data": {
      "text/plain": [
       "<matplotlib.legend.Legend at 0x15ceb5d9dd0>"
      ]
     },
     "execution_count": 38,
     "metadata": {},
     "output_type": "execute_result"
    },
    {
     "data": {
      "image/png": "[encoded data removed]",
      "text/plain": [
       "<Figure size 600x600 with 1 Axes>"
      ]
     },
     "metadata": {},
     "output_type": "display_data"
    }
   ],
   "source": [
    "# idem filtrando las stopwords en ingles, el parametro use idf en true y ngram rnge 12\n",
    "count_vect = CountVectorizer(stop_words='english', ngram_range=(1,2))\n",
    "X_train_counts = count_vect.fit_transform(X_train)\n",
    "\n",
    "tf_idf = TfidfTransformer(use_idf=True)\n",
    "X_train_tf = tf_idf.fit_transform(X_train_counts)\n",
    "\n",
    "from sklearn.decomposition import PCA\n",
    "\n",
    "reductor = PCA(n_components=2)\n",
    "\n",
    "# Transformar train\n",
    "X_train_red = reductor.fit_transform(X_train_tf.toarray())\n",
    "\n",
    "fig, ax = plt.subplots(figsize=(6, 6))\n",
    "for character in np.unique(y_train):\n",
    "    mask_train = y_train == character\n",
    "    ax.scatter(X_train_red[mask_train, 0], X_train_red[mask_train, 1], label=character)\n",
    "\n",
    "ax.set_title(\"PCA por personaje\")\n",
    "ax.legend()"
   ]
  },
  {
   "cell_type": "code",
   "execution_count": 39,
   "metadata": {},
   "outputs": [
    {
     "data": {
      "text/plain": [
       "array([0.00844013, 0.00793305])"
      ]
     },
     "execution_count": 39,
     "metadata": {},
     "output_type": "execute_result"
    }
   ],
   "source": [
    "# varianza explicada\n",
    "reductor.explained_variance_ratio_"
   ]
  },
  {
   "cell_type": "code",
   "execution_count": 105,
   "metadata": {},
   "outputs": [
    {
     "name": "stdout",
     "output_type": "stream",
     "text": [
      "\n"
     ]
    }
   ],
   "source": [
    "X_train_tf\n",
    "print(X_train_tf[1,:])"
   ]
  },
  {
   "cell_type": "markdown",
   "metadata": {},
   "source": [
    "## Modelos de Clasificación"
   ]
  },
  {
   "cell_type": "code",
   "execution_count": 49,
   "metadata": {
    "scrolled": false
   },
   "outputs": [
    {
     "data": {
      "text/plain": [
       "array(['Queen Margaret', 'Antony', 'Cleopatra', 'Antony', 'Cleopatra',\n",
       "       'Cleopatra', 'Antony', 'Cleopatra', 'Antony', 'Antony'],\n",
       "      dtype='<U14')"
      ]
     },
     "execution_count": 49,
     "metadata": {},
     "output_type": "execute_result"
    }
   ],
   "source": [
    "bayes_clf = MultinomialNB().fit(X_train_tf, y_train)\n",
    "\n",
    "# Ver las primeras 10 predicciones de train\n",
    "y_pred_train = bayes_clf.predict(X_train_tf)\n",
    "y_pred_train[:10]"
   ]
  },
  {
   "cell_type": "code",
   "execution_count": 63,
   "metadata": {},
   "outputs": [],
   "source": [
    "# prediccion en el conjunto de testeo\n",
    "# idem filtrando las stopwords en ingles, el parametro use idf en true y ngram rnge 12\n",
    "#count_vect = CountVectorizer(stop_words='english', ngram_range=(1,2))\n",
    "\n",
    "X_test_counts = count_vect.transform(X_test)\n",
    "\n",
    "X_test_tf = tf_idf.transform(X_test_counts)\n"
   ]
  },
  {
   "cell_type": "code",
   "execution_count": 65,
   "metadata": {},
   "outputs": [
    {
     "data": {
      "text/plain": [
       "array(['Antony', 'Cleopatra', 'Antony', 'Cleopatra', 'Antony', 'Antony',\n",
       "       'Antony', 'Cleopatra', 'Antony', 'Antony'], dtype='<U14')"
      ]
     },
     "execution_count": 65,
     "metadata": {},
     "output_type": "execute_result"
    }
   ],
   "source": [
    "y_pred_test = bayes_clf.predict(X_test_tf)\n",
    "\n",
    "y_pred_test[:10]"
   ]
  },
  {
   "cell_type": "code",
   "execution_count": 83,
   "metadata": {},
   "outputs": [
    {
     "data": {
      "text/plain": [
       "0.9634703196347032"
      ]
     },
     "execution_count": 83,
     "metadata": {},
     "output_type": "execute_result"
    }
   ],
   "source": [
    "# accuracy en los datos de entrenamiento\n",
    "def get_accuracy(y_true, y_pred):\n",
    "    return (y_true == y_pred).sum() / len(y_true)\n",
    "\n",
    "acc_train = get_accuracy(y_train, y_pred_train)\n",
    "acc_train"
   ]
  },
  {
   "cell_type": "code",
   "execution_count": 84,
   "metadata": {},
   "outputs": [
    {
     "data": {
      "text/plain": [
       "0.574468085106383"
      ]
     },
     "execution_count": 84,
     "metadata": {},
     "output_type": "execute_result"
    }
   ],
   "source": [
    "#accuracy en los datos de testeo\n",
    "acc_testeo = get_accuracy(y_test, y_pred_test)\n",
    "acc_testeo"
   ]
  },
  {
   "cell_type": "code",
   "execution_count": 86,
   "metadata": {
    "scrolled": false
   },
   "outputs": [
    {
     "data": {
      "text/plain": [
       "array([[69,  6,  1],\n",
       "       [40, 21,  0],\n",
       "       [30,  3, 18]], dtype=int64)"
      ]
     },
     "execution_count": 86,
     "metadata": {},
     "output_type": "execute_result"
    }
   ],
   "source": [
    "# TODO: Predecir para test y ver la matriz de confusión, y reportar accuracy\n",
    "\n",
    "# X_test_counts = ...\n",
    "# X_test_tfidf = ...\n",
    "# y_test_pred = ...\n",
    "\n",
    "from sklearn.metrics import confusion_matrix\n",
    "matriz = confusion_matrix(y_test, y_pred_test)\n",
    "matriz"
   ]
  },
  {
   "cell_type": "code",
   "execution_count": 92,
   "metadata": {},
   "outputs": [
    {
     "data": {
      "image/png": "[encoded data removed]",
      "text/plain": [
       "<Figure size 640x480 with 2 Axes>"
      ]
     },
     "metadata": {},
     "output_type": "display_data"
    }
   ],
   "source": [
    "disp = ConfusionMatrixDisplay(confusion_matrix=matriz)\n",
    "disp.plot(cmap = plt.cm.Blues)\n",
    "plt.show()"
   ]
  },
  {
   "cell_type": "code",
   "execution_count": 85,
   "metadata": {},
   "outputs": [
    {
     "data": {
      "text/plain": [
       "array([0.90789474, 0.3442623 , 0.35294118])"
      ]
     },
     "execution_count": 85,
     "metadata": {},
     "output_type": "execute_result"
    }
   ],
   "source": [
    "from sklearn.metrics import recall_score\n",
    "recall_score(y_test, y_pred_test, average=None)\n"
   ]
  },
  {
   "cell_type": "code",
   "execution_count": 93,
   "metadata": {},
   "outputs": [
    {
     "data": {
      "text/plain": [
       "array([0.64186047, 0.46153846, 0.51428571])"
      ]
     },
     "execution_count": 93,
     "metadata": {},
     "output_type": "execute_result"
    }
   ],
   "source": [
    "from sklearn.metrics import f1_score\n",
    "f1_score(y_test, y_pred_test, average=None)"
   ]
  },
  {
   "cell_type": "markdown",
   "metadata": {},
   "source": [
    "### Búsqueda de hiper-parámetros con Cross-Validation"
   ]
  },
  {
   "cell_type": "code",
   "execution_count": 106,
   "metadata": {},
   "outputs": [
    {
     "name": "stdout",
     "output_type": "stream",
     "text": [
      "acc=0.4364 params={'stop_words': None, 'ngram': (1, 2), 'idf': True}\n",
      "acc=0.4909 params={'stop_words': None, 'ngram': (1, 2), 'idf': True}\n",
      "acc=0.5046 params={'stop_words': None, 'ngram': (1, 2), 'idf': True}\n",
      "acc=0.4495 params={'stop_words': None, 'ngram': (1, 2), 'idf': True}\n",
      "acc=0.4364 params={'stop_words': None, 'ngram': (1, 1), 'idf': False}\n",
      "acc=0.4545 params={'stop_words': None, 'ngram': (1, 1), 'idf': False}\n",
      "acc=0.4954 params={'stop_words': None, 'ngram': (1, 1), 'idf': False}\n",
      "acc=0.4220 params={'stop_words': None, 'ngram': (1, 1), 'idf': False}\n",
      "acc=0.5455 params={'stop_words': 'english', 'ngram': (1, 2), 'idf': True}\n",
      "acc=0.5727 params={'stop_words': 'english', 'ngram': (1, 2), 'idf': True}\n",
      "acc=0.5505 params={'stop_words': 'english', 'ngram': (1, 2), 'idf': True}\n",
      "acc=0.5229 params={'stop_words': 'english', 'ngram': (1, 2), 'idf': True}\n"
     ]
    }
   ],
   "source": [
    "from sklearn.model_selection import StratifiedKFold\n",
    "\n",
    "# TODO: Agregar más variantes de parámetros que les parezcan relevantes\n",
    "param_sets = [{\"stop_words\": None, \"ngram\": (1,2), \"idf\": True},\n",
    "             {\"stop_words\": None, \"ngram\": (1,1), \"idf\": False},\n",
    "             {\"stop_words\": 'english', \"ngram\": (1,2), \"idf\": True}]\n",
    "\n",
    "skf = StratifiedKFold(n_splits=4, shuffle=True, random_state=42)\n",
    "\n",
    "# Ahora usaremos train/validation/test\n",
    "# Por lo tanto le renombramos train+validation = dev(elopment) dataset\n",
    "X_dev = X_train\n",
    "y_dev = y_train\n",
    "\n",
    "# # Para evitar errores\n",
    "# del X_train\n",
    "# del y_train\n",
    "\n",
    "for params in param_sets:\n",
    "    \n",
    "    # Transormaciones a aplicar (featurizers)\n",
    "    count_vect = CountVectorizer(stop_words=params[\"stop_words\"], ngram_range=params[\"ngram\"])\n",
    "    tf_idf = TfidfTransformer(use_idf=params[\"idf\"])\n",
    "    \n",
    "    for train_idxs, val_idxs in skf.split(X_dev, y_dev):\n",
    "        \n",
    "        # Train y validation para el split actual\n",
    "        X_train_ = X_dev[train_idxs]\n",
    "        y_train_ = y_dev[train_idxs]\n",
    "        X_val = X_dev[val_idxs]\n",
    "        y_val = y_dev[val_idxs]\n",
    "        \n",
    "        # Ajustamos y transformamos Train\n",
    "        X_train_counts = count_vect.fit_transform(X_train_)\n",
    "        X_train_tf = tf_idf.fit_transform(X_train_counts)\n",
    "        \n",
    "        # TODO: Completar el código para entrenar y evaluar \n",
    "        \n",
    "        # Entrenamos con Train\n",
    "        bayes_clf = MultinomialNB().fit(X_train_tf, y_train_)\n",
    "\n",
    "        # Transformamos Validation\n",
    "        # X_val_counts = ...\n",
    "        # X_val_tfidf = ...\n",
    "        X_val_counts = count_vect.transform(X_val)\n",
    "        X_val_tfidf = tf_idf.transform(X_val_counts)\n",
    "        \n",
    "        # Predecimos y evaluamos en Validation\n",
    "        y_pred_val = bayes_clf.predict(X_val_tfidf)\n",
    "        acc = get_accuracy(y_val, y_pred_val)\n",
    "        print(f\"{acc=:.4f} {params=}\")\n",
    "\n"
   ]
  },
  {
   "cell_type": "code",
   "execution_count": 107,
   "metadata": {},
   "outputs": [
    {
     "data": {
      "text/plain": [
       "0.574468085106383"
      ]
     },
     "execution_count": 107,
     "metadata": {},
     "output_type": "execute_result"
    }
   ],
   "source": [
    "# MODELO SELECCIONADO\n",
    "# modelo con mayor accuracy\n",
    "count_vect = CountVectorizer(stop_words='english', ngram_range=(1,2))\n",
    "X_train_counts = count_vect.fit_transform(X_train)\n",
    "\n",
    "tf_idf = TfidfTransformer(use_idf=True)\n",
    "X_train_tf = tf_idf.fit_transform(X_train_counts)\n",
    "\n",
    "bayes_clf = MultinomialNB().fit(X_train_tf, y_train)\n",
    "\n",
    "# Ver las primeras 10 predicciones de train\n",
    "y_pred_train = bayes_clf.predict(X_train_tf)\n",
    "y_pred_train[:10]\n",
    "\n",
    "X_test_counts = count_vect.transform(X_test)\n",
    "\n",
    "X_test_tf = tf_idf.transform(X_test_counts)\n",
    "\n",
    "y_pred_test = bayes_clf.predict(X_test_tf)\n",
    "\n",
    "y_pred_test[:10]\n",
    "\n",
    "acc_testeo = get_accuracy(y_test, y_pred_test)\n",
    "acc_testeo"
   ]
  },
  {
   "cell_type": "code",
   "execution_count": 108,
   "metadata": {},
   "outputs": [
    {
     "data": {
      "text/plain": [
       "0.9634703196347032"
      ]
     },
     "execution_count": 108,
     "metadata": {},
     "output_type": "execute_result"
    }
   ],
   "source": [
    "\n",
    "acc_train = get_accuracy(y_train, y_pred_train)\n",
    "\n",
    "acc_train"
   ]
  },
  {
   "cell_type": "code",
   "execution_count": 115,
   "metadata": {},
   "outputs": [],
   "source": [
    "#IMPLEMENTACION RED NEURONAL\n",
    "\n",
    "# paso 1 importamos paquetes\n",
    "import tensorflow as tf\n",
    "from tensorflow.keras.models import Sequential\n",
    "from tensorflow.keras.layers import LSTM, Dense\n"
   ]
  },
  {
   "cell_type": "code",
   "execution_count": 116,
   "metadata": {},
   "outputs": [],
   "source": [
    "model = Sequential()\n",
    "# Add the layers\n",
    "model.add(Dense(12057, activation='relu', input_dim=100))\n",
    "model.add(Dense(1, activation='sigmoid'))\n",
    "\n",
    "# Compile the model\n",
    "model.compile(optimizer='adam', loss='mean_squared_error', metrics=['accuracy'])\n",
    "\n",
    "model.fit(X_train_tf, y_train, epochs=1000)\n",
    "# batch_size = un numero es cruciar cuando el data set es muy grande\n"
   ]
  },
  {
   "cell_type": "code",
   "execution_count": 117,
   "metadata": {},
   "outputs": [
    {
     "data": {
      "text/plain": [
       "<438x8489 sparse matrix of type '<class 'numpy.float64'>'\n",
       "\twith 12097 stored elements in Compressed Sparse Row format>"
      ]
     },
     "execution_count": 117,
     "metadata": {},
     "output_type": "execute_result"
    }
   ],
   "source": [
    "X_train_tf"
   ]
  },
  {
   "cell_type": "code",
   "execution_count": 114,
   "metadata": {},
   "outputs": [],
   "source": [
    "\n",
    "# paso 2 definimos capas\n",
    "capaentrada = tf.keras.layers.Dense(units = 8, input_shape = [8])\n",
    "capaoculta = tf.keras.layers.Dense(units = 8)\n",
    "capasalida = tf.keras.layers.Dense(units = 1)\n",
    "\n",
    "modelo = tf.keras.Sequential(capaentrada, capaoculta, capasalida)\n",
    "\n",
    "modelo.compile(\n",
    "    optimizer = tf.keras.optimizers.Adam(0,1),\n",
    "    loss = 'categorical_crossentropy',\n",
    "    metrics = 'accuracy'\n",
    ")\n",
    "\n",
    "print('inicio del entrenamiento...')\n",
    "historial = modelo.fit(X_train_tf, y_train, epochs = 1000, verbose = False, validation_split = 0.2)\n",
    "print('modelo entrenado')\n"
   ]
  },
  {
   "cell_type": "markdown",
   "metadata": {},
   "source": [
    "### (Opcional) Comparativa con Fasttext"
   ]
  },
  {
   "cell_type": "code",
   "execution_count": 98,
   "metadata": {},
   "outputs": [
    {
     "name": "stdout",
     "output_type": "stream",
     "text": [
      "Collecting fasttext\n",
      "  Downloading fasttext-0.9.3.tar.gz (73 kB)\n",
      "     ---------------------------------------- 0.0/73.4 kB ? eta -:--:--\n",
      "     ----- ---------------------------------- 10.2/73.4 kB ? eta -:--:--\n",
      "     --------------- ---------------------- 30.7/73.4 kB 262.6 kB/s eta 0:00:01\n",
      "     ------------------------------- ------ 61.4/73.4 kB 409.6 kB/s eta 0:00:01\n",
      "     -------------------------------------- 73.4/73.4 kB 448.2 kB/s eta 0:00:00\n",
      "  Installing build dependencies: started\n",
      "  Installing build dependencies: finished with status 'done'\n",
      "  Getting requirements to build wheel: started\n",
      "  Getting requirements to build wheel: finished with status 'done'\n",
      "  Preparing metadata (pyproject.toml): started\n",
      "  Preparing metadata (pyproject.toml): finished with status 'done'\n",
      "Collecting pybind11>=2.2 (from fasttext)\n",
      "  Using cached pybind11-2.12.0-py3-none-any.whl.metadata (9.5 kB)\n",
      "Requirement already satisfied: setuptools>=0.7.0 in c:\\users\\lucia\\anaconda3\\lib\\site-packages (from fasttext) (68.2.2)\n",
      "Requirement already satisfied: numpy in c:\\users\\lucia\\anaconda3\\lib\\site-packages (from fasttext) (1.26.4)\n",
      "Using cached pybind11-2.12.0-py3-none-any.whl (234 kB)\n",
      "Building wheels for collected packages: fasttext\n",
      "  Building wheel for fasttext (pyproject.toml): started\n",
      "  Building wheel for fasttext (pyproject.toml): finished with status 'error'\n",
      "Failed to build fasttext\n"
     ]
    },
    {
     "name": "stderr",
     "output_type": "stream",
     "text": [
      "  error: subprocess-exited-with-error\n",
      "  \n",
      "  × Building wheel for fasttext (pyproject.toml) did not run successfully.\n",
      "  │ exit code: 1\n",
      "  ╰─> [33 lines of output]\n",
      "      C:\\Users\\lucia\\AppData\\Local\\Temp\\pip-build-env-8jatbbw7\\overlay\\Lib\\site-packages\\setuptools\\dist.py:476: SetuptoolsDeprecationWarning: Invalid dash-separated options\n",
      "      !!\n",
      "      \n",
      "              ********************************************************************************\n",
      "              Usage of dash-separated 'description-file' will not be supported in future\n",
      "              versions. Please use the underscore name 'description_file' instead.\n",
      "      \n",
      "              By 2024-Sep-26, you need to update your project and remove deprecated calls\n",
      "              or your builds will no longer be supported.\n",
      "      \n",
      "              See https://setuptools.pypa.io/en/latest/userguide/declarative_config.html for details.\n",
      "              ********************************************************************************\n",
      "      \n",
      "      !!\n",
      "        opt = self.warn_dash_deprecation(opt, section)\n",
      "      running bdist_wheel\n",
      "      running build\n",
      "      running build_py\n",
      "      creating build\n",
      "      creating build\\lib.win-amd64-cpython-311\n",
      "      creating build\\lib.win-amd64-cpython-311\\fasttext\n",
      "      copying python\\fasttext_module\\fasttext\\FastText.py -> build\\lib.win-amd64-cpython-311\\fasttext\n",
      "      copying python\\fasttext_module\\fasttext\\__init__.py -> build\\lib.win-amd64-cpython-311\\fasttext\n",
      "      creating build\\lib.win-amd64-cpython-311\\fasttext\\util\n",
      "      copying python\\fasttext_module\\fasttext\\util\\util.py -> build\\lib.win-amd64-cpython-311\\fasttext\\util\n",
      "      copying python\\fasttext_module\\fasttext\\util\\__init__.py -> build\\lib.win-amd64-cpython-311\\fasttext\\util\n",
      "      creating build\\lib.win-amd64-cpython-311\\fasttext\\tests\n",
      "      copying python\\fasttext_module\\fasttext\\tests\\test_configurations.py -> build\\lib.win-amd64-cpython-311\\fasttext\\tests\n",
      "      copying python\\fasttext_module\\fasttext\\tests\\test_script.py -> build\\lib.win-amd64-cpython-311\\fasttext\\tests\n",
      "      copying python\\fasttext_module\\fasttext\\tests\\__init__.py -> build\\lib.win-amd64-cpython-311\\fasttext\\tests\n",
      "      running build_ext\n",
      "      building 'fasttext_pybind' extension\n",
      "      error: Microsoft Visual C++ 14.0 or greater is required. Get it with \"Microsoft C++ Build Tools\": https://visualstudio.microsoft.com/visual-cpp-build-tools/\n",
      "      [end of output]\n",
      "  \n",
      "  note: This error originates from a subprocess, and is likely not a problem with pip.\n",
      "  ERROR: Failed building wheel for fasttext\n",
      "ERROR: Could not build wheels for fasttext, which is required to install pyproject.toml-based projects\n"
     ]
    }
   ],
   "source": [
    "!pip install fasttext"
   ]
  },
  {
   "cell_type": "code",
   "execution_count": 99,
   "metadata": {},
   "outputs": [
    {
     "ename": "ModuleNotFoundError",
     "evalue": "No module named 'fasttext'",
     "output_type": "error",
     "traceback": [
      "\u001b[1;31m---------------------------------------------------------------------------\u001b[0m",
      "\u001b[1;31mModuleNotFoundError\u001b[0m                       Traceback (most recent call last)",
      "Cell \u001b[1;32mIn[99], line 1\u001b[0m\n\u001b[1;32m----> 1\u001b[0m \u001b[38;5;28;01mimport\u001b[39;00m \u001b[38;5;21;01mfasttext\u001b[39;00m\n\u001b[0;32m      3\u001b[0m y_train_s \u001b[38;5;241m=\u001b[39m np\u001b[38;5;241m.\u001b[39mchar\u001b[38;5;241m.\u001b[39mreplace(y_train\u001b[38;5;241m.\u001b[39mastype(\u001b[38;5;28mstr\u001b[39m), \u001b[38;5;124m\"\u001b[39m\u001b[38;5;124m \u001b[39m\u001b[38;5;124m\"\u001b[39m, \u001b[38;5;124m\"\u001b[39m\u001b[38;5;124m_\u001b[39m\u001b[38;5;124m\"\u001b[39m)\u001b[38;5;241m.\u001b[39mastype(\u001b[38;5;28mobject\u001b[39m)\n\u001b[0;32m      4\u001b[0m y_test_s \u001b[38;5;241m=\u001b[39m np\u001b[38;5;241m.\u001b[39mchar\u001b[38;5;241m.\u001b[39mreplace(y_test\u001b[38;5;241m.\u001b[39mastype(\u001b[38;5;28mstr\u001b[39m), \u001b[38;5;124m\"\u001b[39m\u001b[38;5;124m \u001b[39m\u001b[38;5;124m\"\u001b[39m, \u001b[38;5;124m\"\u001b[39m\u001b[38;5;124m_\u001b[39m\u001b[38;5;124m\"\u001b[39m)\u001b[38;5;241m.\u001b[39mastype(\u001b[38;5;28mobject\u001b[39m)\n",
      "\u001b[1;31mModuleNotFoundError\u001b[0m: No module named 'fasttext'"
     ]
    }
   ],
   "source": [
    "import fasttext\n",
    "\n",
    "y_train_s = np.char.replace(y_train.astype(str), \" \", \"_\").astype(object)\n",
    "y_test_s = np.char.replace(y_test.astype(str), \" \", \"_\").astype(object)\n",
    "\n",
    "# Convertimos al formato de fasttext: archivo de texto donde cada línea es:\n",
    "# __label__<label> TEXTO\n",
    "Xytrains = \"__label__\" + y_train_s.astype(object) + \" \" + X_train\n",
    "Xytests = \"__label__\" + y_test_s.astype(object) + \" \" + X_test\n",
    "np.savetxt(data_dir / \"train.txt\", Xytrains, fmt=\"%s\")\n",
    "np.savetxt(data_dir / \"test.txt\", Xytests, fmt=\"%s\")\n",
    "\n",
    "Xytests[0]"
   ]
  },
  {
   "cell_type": "code",
   "execution_count": null,
   "metadata": {},
   "outputs": [],
   "source": [
    "model = fasttext.train_supervised(input=str(data_dir / \"train.txt\"), epoch=100, wordNgrams=2)\n",
    "model.test(str(data_dir / \"test.txt\"))"
   ]
  },
  {
   "cell_type": "code",
   "execution_count": null,
   "metadata": {},
   "outputs": [],
   "source": [
    "y_out = model.predict(list(X_test))\n",
    "y_pred_test = [y[0].replace(\"__label__\", \"\") for y in y_out[0]]\n",
    "    \n",
    "print(get_accuracy(y_test_s, y_pred_test))"
   ]
  },
  {
   "cell_type": "code",
   "execution_count": 11,
   "metadata": {},
   "outputs": [
    {
     "data": {
      "text/html": [
       "<div>\n",
       "<style scoped>\n",
       "    .dataframe tbody tr th:only-of-type {\n",
       "        vertical-align: middle;\n",
       "    }\n",
       "\n",
       "    .dataframe tbody tr th {\n",
       "        vertical-align: top;\n",
       "    }\n",
       "\n",
       "    .dataframe thead th {\n",
       "        text-align: right;\n",
       "    }\n",
       "</style>\n",
       "<table border=\"1\" class=\"dataframe\">\n",
       "  <thead>\n",
       "    <tr style=\"text-align: right;\">\n",
       "      <th></th>\n",
       "      <th>CleanText</th>\n",
       "      <th>CharName</th>\n",
       "      <th>Title</th>\n",
       "      <th>GenreType</th>\n",
       "    </tr>\n",
       "  </thead>\n",
       "  <tbody>\n",
       "    <tr>\n",
       "      <th>2058</th>\n",
       "      <td>if it be love indeed  tell me how much</td>\n",
       "      <td>Cleopatra</td>\n",
       "      <td>Antony and Cleopatra</td>\n",
       "      <td>Tragedy</td>\n",
       "    </tr>\n",
       "    <tr>\n",
       "      <th>2060</th>\n",
       "      <td>i'll set a bourn how far to be beloved</td>\n",
       "      <td>Cleopatra</td>\n",
       "      <td>Antony and Cleopatra</td>\n",
       "      <td>Tragedy</td>\n",
       "    </tr>\n",
       "    <tr>\n",
       "      <th>2065</th>\n",
       "      <td>nay  hear them  antony \\r fulvia perchance is ...</td>\n",
       "      <td>Cleopatra</td>\n",
       "      <td>Antony and Cleopatra</td>\n",
       "      <td>Tragedy</td>\n",
       "    </tr>\n",
       "    <tr>\n",
       "      <th>2067</th>\n",
       "      <td>perchance  nay  and most like \\r you must not ...</td>\n",
       "      <td>Cleopatra</td>\n",
       "      <td>Antony and Cleopatra</td>\n",
       "      <td>Tragedy</td>\n",
       "    </tr>\n",
       "    <tr>\n",
       "      <th>2069</th>\n",
       "      <td>excellent falsehood \\r why did he marry fulvia...</td>\n",
       "      <td>Cleopatra</td>\n",
       "      <td>Antony and Cleopatra</td>\n",
       "      <td>Tragedy</td>\n",
       "    </tr>\n",
       "    <tr>\n",
       "      <th>...</th>\n",
       "      <td>...</td>\n",
       "      <td>...</td>\n",
       "      <td>...</td>\n",
       "      <td>...</td>\n",
       "    </tr>\n",
       "    <tr>\n",
       "      <th>34648</th>\n",
       "      <td>by this  the boy that by her side lay kill'd\\r...</td>\n",
       "      <td>Poet</td>\n",
       "      <td>Venus and Adonis</td>\n",
       "      <td>Poem</td>\n",
       "    </tr>\n",
       "    <tr>\n",
       "      <th>34649</th>\n",
       "      <td>she bows her head  the new sprung flower to sm...</td>\n",
       "      <td>Poet</td>\n",
       "      <td>Venus and Adonis</td>\n",
       "      <td>Poem</td>\n",
       "    </tr>\n",
       "    <tr>\n",
       "      <th>34650</th>\n",
       "      <td>'poor flower ' quoth she  'this was thy father...</td>\n",
       "      <td>Poet</td>\n",
       "      <td>Venus and Adonis</td>\n",
       "      <td>Poem</td>\n",
       "    </tr>\n",
       "    <tr>\n",
       "      <th>34651</th>\n",
       "      <td>'here was thy father's bed  here in my breast ...</td>\n",
       "      <td>Poet</td>\n",
       "      <td>Venus and Adonis</td>\n",
       "      <td>Poem</td>\n",
       "    </tr>\n",
       "    <tr>\n",
       "      <th>34652</th>\n",
       "      <td>thus weary of the world  away she hies \\r and ...</td>\n",
       "      <td>Poet</td>\n",
       "      <td>Venus and Adonis</td>\n",
       "      <td>Poem</td>\n",
       "    </tr>\n",
       "  </tbody>\n",
       "</table>\n",
       "<p>1139 rows × 4 columns</p>\n",
       "</div>"
      ],
      "text/plain": [
       "                                               CleanText   CharName  \\\n",
       "2058             if it be love indeed  tell me how much   Cleopatra   \n",
       "2060             i'll set a bourn how far to be beloved   Cleopatra   \n",
       "2065   nay  hear them  antony \\r fulvia perchance is ...  Cleopatra   \n",
       "2067   perchance  nay  and most like \\r you must not ...  Cleopatra   \n",
       "2069   excellent falsehood \\r why did he marry fulvia...  Cleopatra   \n",
       "...                                                  ...        ...   \n",
       "34648  by this  the boy that by her side lay kill'd\\r...       Poet   \n",
       "34649  she bows her head  the new sprung flower to sm...       Poet   \n",
       "34650  'poor flower ' quoth she  'this was thy father...       Poet   \n",
       "34651  'here was thy father's bed  here in my breast ...       Poet   \n",
       "34652  thus weary of the world  away she hies \\r and ...       Poet   \n",
       "\n",
       "                      Title GenreType  \n",
       "2058   Antony and Cleopatra   Tragedy  \n",
       "2060   Antony and Cleopatra   Tragedy  \n",
       "2065   Antony and Cleopatra   Tragedy  \n",
       "2067   Antony and Cleopatra   Tragedy  \n",
       "2069   Antony and Cleopatra   Tragedy  \n",
       "...                     ...       ...  \n",
       "34648      Venus and Adonis      Poem  \n",
       "34649      Venus and Adonis      Poem  \n",
       "34650      Venus and Adonis      Poem  \n",
       "34651      Venus and Adonis      Poem  \n",
       "34652      Venus and Adonis      Poem  \n",
       "\n",
       "[1139 rows x 4 columns]"
      ]
     },
     "execution_count": 11,
     "metadata": {},
     "output_type": "execute_result"
    }
   ],
   "source": [
    "# cambio de personaje\n",
    "# Usaremos sólo estos personajes: cambiamos a Antony por Poet\n",
    "# Agregamos personajes, obras y géneros en el mismo dataset\n",
    "\n",
    "df_dataset = df_paragraphs.merge(df_chapters.set_index(\"id\")[\"work_id\"], left_on=\"chapter_id\", right_index=True)\n",
    "df_dataset = df_dataset.merge(df_works.set_index(\"id\")[[\"Title\", \"GenreType\"]], left_on=\"work_id\", right_index=True)\n",
    "df_dataset = df_dataset.merge(df_characters.set_index('id')[\"CharName\"], left_on=\"character_id\", right_index=True).sort_index()\n",
    "df_dataset = df_dataset[[\"CleanText\", \"CharName\", \"Title\", \"GenreType\"]]\n",
    "\n",
    "# Usaremos sólo estos personajes\n",
    "characters = [\"Poet\", \"Cleopatra\", \"Queen Margaret\"]\n",
    "df_dataset = df_dataset[df_dataset[\"CharName\"].isin(characters)]\n",
    "\n",
    "df_dataset"
   ]
  },
  {
   "cell_type": "code",
   "execution_count": 14,
   "metadata": {},
   "outputs": [
    {
     "name": "stdout",
     "output_type": "stream",
     "text": [
      "Tamaños de Train/Test: 797/342\n"
     ]
    },
    {
     "data": {
      "text/plain": [
       "<matplotlib.legend.Legend at 0x15ceb742ed0>"
      ]
     },
     "execution_count": 14,
     "metadata": {},
     "output_type": "execute_result"
    },
    {
     "data": {
      "image/png": "[encoded data removed]",
      "text/plain": [
       "<Figure size 600x600 with 1 Axes>"
      ]
     },
     "metadata": {},
     "output_type": "display_data"
    }
   ],
   "source": [
    "# Párrafos por cada personaje seleccionado\n",
    "df_dataset[\"CharName\"].value_counts()\n",
    "df_dataset.to_csv(r\"C:\\Users\\lucia\\OneDrive\\Escritorio\\IntroCD\\Tarea2_introCD\\Tarea_2\\data\\shakespeare\\dataset_poet.csv\")\n",
    "\n",
    "X = df_dataset[\"CleanText\"].to_numpy()\n",
    "y = df_dataset[\"CharName\"].to_numpy()\n",
    "\n",
    "X_train, X_test, y_train, y_test = train_test_split(\n",
    "    X, y, test_size=0.3, random_state=42, stratify=y)\n",
    "\n",
    "print(f\"Tamaños de Train/Test: {len(X_train)}/{len(X_test)}\")\n",
    "\n",
    "count_vect = CountVectorizer(stop_words=None, ngram_range=(1,1))\n",
    "X_train_counts = count_vect.fit_transform(X_train)\n",
    "\n",
    "tf_idf = TfidfTransformer(use_idf=False)\n",
    "X_train_tf = tf_idf.fit_transform(X_train_counts)\n",
    "\n",
    "from sklearn.decomposition import PCA\n",
    "\n",
    "reductor = PCA(n_components=2)\n",
    "\n",
    "# Transformar train\n",
    "X_train_red = reductor.fit_transform(X_train_tf.toarray())\n",
    "\n",
    "count_vect = CountVectorizer(stop_words='english', ngram_range=(1,2))\n",
    "X_train_counts = count_vect.fit_transform(X_train)\n",
    "\n",
    "tf_idf = TfidfTransformer(use_idf=True)\n",
    "X_train_tf = tf_idf.fit_transform(X_train_counts)\n",
    "\n",
    "from sklearn.decomposition import PCA\n",
    "\n",
    "reductor = PCA(n_components=2)\n",
    "\n",
    "# Transformar train\n",
    "X_train_red = reductor.fit_transform(X_train_tf.toarray())\n",
    "\n",
    "fig, ax = plt.subplots(figsize=(6, 6))\n",
    "for character in np.unique(y_train):\n",
    "    mask_train = y_train == character\n",
    "    ax.scatter(X_train_red[mask_train, 0], X_train_red[mask_train, 1], label=character)\n",
    "\n",
    "ax.set_title(\"PCA por personaje\")\n",
    "ax.legend()"
   ]
  },
  {
   "cell_type": "code",
   "execution_count": 20,
   "metadata": {},
   "outputs": [
    {
     "data": {
      "text/plain": [
       "0.7114178168130489"
      ]
     },
     "execution_count": 20,
     "metadata": {},
     "output_type": "execute_result"
    }
   ],
   "source": [
    "bayes_clf = MultinomialNB().fit(X_train_tf, y_train)\n",
    "\n",
    "# Ver las primeras 10 predicciones de train\n",
    "y_pred_train = bayes_clf.predict(X_train_tf)\n",
    "y_pred_train[:10]\n",
    "\n",
    "X_test_counts = count_vect.transform(X_test)\n",
    "\n",
    "X_test_tf = tf_idf.transform(X_test_counts)\n",
    "\n",
    "y_pred_test = bayes_clf.predict(X_test_tf)\n",
    "\n",
    "y_pred_test[:10]\n",
    "\n",
    "def get_accuracy(y_true, y_pred):\n",
    "    return (y_true == y_pred).sum() / len(y_true)\n",
    "\n",
    "acc_train = get_accuracy(y_train, y_pred_train)\n",
    "acc_train\n"
   ]
  },
  {
   "cell_type": "code",
   "execution_count": 16,
   "metadata": {},
   "outputs": [
    {
     "data": {
      "text/plain": [
       "0.672514619883041"
      ]
     },
     "execution_count": 16,
     "metadata": {},
     "output_type": "execute_result"
    }
   ],
   "source": [
    "acc_testeo = get_accuracy(y_test, y_pred_test)\n",
    "acc_testeo\n"
   ]
  },
  {
   "cell_type": "code",
   "execution_count": 23,
   "metadata": {},
   "outputs": [
    {
     "data": {
      "image/png": "[encoded data removed]",
      "text/plain": [
       "<Figure size 640x480 with 2 Axes>"
      ]
     },
     "metadata": {},
     "output_type": "display_data"
    }
   ],
   "source": [
    "\n",
    "from sklearn.metrics import confusion_matrix\n",
    "matriz = confusion_matrix(y_test, y_pred_test)\n",
    "matriz\n",
    "\n",
    "disp = ConfusionMatrixDisplay(confusion_matrix=matriz)\n",
    "disp.plot(cmap = plt.cm.Blues)\n",
    "plt.show()\n"
   ]
  },
  {
   "cell_type": "code",
   "execution_count": 18,
   "metadata": {},
   "outputs": [
    {
     "data": {
      "text/plain": [
       "array([0., 1., 0.])"
      ]
     },
     "execution_count": 18,
     "metadata": {},
     "output_type": "execute_result"
    }
   ],
   "source": [
    "from sklearn.metrics import recall_score\n",
    "recall_score(y_test, y_pred_test, average=None)"
   ]
  },
  {
   "cell_type": "code",
   "execution_count": 19,
   "metadata": {},
   "outputs": [
    {
     "data": {
      "text/plain": [
       "array([0.       , 0.8041958, 0.       ])"
      ]
     },
     "execution_count": 19,
     "metadata": {},
     "output_type": "execute_result"
    }
   ],
   "source": [
    "from sklearn.metrics import f1_score\n",
    "f1_score(y_test, y_pred_test, average=None)"
   ]
  }
 ],
 "metadata": {
  "kernelspec": {
   "display_name": "Python 3 (ipykernel)",
   "language": "python",
   "name": "python3"
  },
  "language_info": {
   "codemirror_mode": {
    "name": "ipython",
    "version": 3
   },
   "file_extension": ".py",
   "mimetype": "text/x-python",
   "name": "python",
   "nbconvert_exporter": "python",
   "pygments_lexer": "ipython3",
   "version": "3.11.7"
  }
 },
 "nbformat": 4,
 "nbformat_minor": 2
}
